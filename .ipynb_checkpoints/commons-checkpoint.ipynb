{
 "cells": [
  {
   "cell_type": "code",
   "execution_count": 2,
   "metadata": {},
   "outputs": [],
   "source": [
    "import subprocess\n",
    "import random\n",
    "\n",
    "def ejecutar(filename):\n",
    "    parametros = [] \n",
    "        \n",
    "    parametros.append(\"../src/cpp/main\")\n",
    "    \n",
    "    process = subprocess.Popen(parametros, stderr=subprocess.PIPE, stdout=subprocess.PIPE, stdin=subprocess.PIPE, universal_newlines = True)\n",
    "    \n",
    "    entrada = ''\n",
    "    file = f\"instancias/{filename}.txt\"\n",
    "    with open(file, 'r') as fp:\n",
    "        line = fp.readline()\n",
    "        while line:\n",
    "            entrada += line\n",
    "            line = fp.readline()\n",
    "    \n",
    "\n",
    "    output = process.communicate(input=entrada)\n",
    "    return output\n"
   ]
  },
  {
   "cell_type": "code",
   "execution_count": null,
   "metadata": {},
   "outputs": [],
   "source": []
  },
  {
   "cell_type": "code",
   "execution_count": null,
   "metadata": {},
   "outputs": [],
   "source": []
  }
 ],
 "metadata": {
  "kernelspec": {
   "display_name": "Python 3 (ipykernel)",
   "language": "python",
   "name": "python3"
  },
  "language_info": {
   "codemirror_mode": {
    "name": "ipython",
    "version": 3
   },
   "file_extension": ".py",
   "mimetype": "text/x-python",
   "name": "python",
   "nbconvert_exporter": "python",
   "pygments_lexer": "ipython3",
   "version": "3.9.6"
  }
 },
 "nbformat": 4,
 "nbformat_minor": 4
}
