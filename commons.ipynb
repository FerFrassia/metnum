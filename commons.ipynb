{
  "metadata": {
    "language_info": {
      "codemirror_mode": {
        "name": "python",
        "version": 3
      },
      "file_extension": ".py",
      "mimetype": "text/x-python",
      "name": "python",
      "nbconvert_exporter": "python",
      "pygments_lexer": "ipython3",
      "version": "3.8"
    },
    "kernelspec": {
      "name": "python",
      "display_name": "Python (Pyodide)",
      "language": "python"
    }
  },
  "nbformat_minor": 4,
  "nbformat": 4,
  "cells": [
    {
      "cell_type": "code",
      "source": "import subprocess\nimport random\n\ndef ejecutar(filename):\n    parametros = [] \n        \n    parametros.append(\"../src/cpp/main\")\n    \n    process = subprocess.Popen(parametros, stderr=subprocess.PIPE, stdout=subprocess.PIPE, stdin=subprocess.PIPE, universal_newlines = True)\n    \n    entrada = ''\n    file = f\"instancias/{filename}.txt\"\n    with open(file, 'r') as fp:\n        line = fp.readline()\n        while line:\n            entrada += line\n            line = fp.readline()\n    \n\n    output = process.communicate(input=entrada)\n    return output\n",
      "metadata": {
        "trusted": true
      },
      "execution_count": 1,
      "outputs": []
    },
    {
      "cell_type": "code",
      "source": "",
      "metadata": {},
      "execution_count": null,
      "outputs": []
    }
  ]
}