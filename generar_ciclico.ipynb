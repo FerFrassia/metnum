{
  "metadata": {
    "language_info": {
      "codemirror_mode": {
        "name": "python",
        "version": 3
      },
      "file_extension": ".py",
      "mimetype": "text/x-python",
      "name": "python",
      "nbconvert_exporter": "python",
      "pygments_lexer": "ipython3",
      "version": "3.8"
    },
    "kernelspec": {
      "name": "python",
      "display_name": "Python (Pyodide)",
      "language": "python"
    }
  },
  "nbformat_minor": 4,
  "nbformat": 4,
  "cells": [
    {
      "cell_type": "code",
      "source": "def generar_ciclico(file, n):\n    m = n # cantidad de links = cantidad de pagina por ser ciclico\n    file.write(str(n))\n    file.write(str(m))\n    \n    for page in range(1, n+1):\n        file.write(str(page) + \" \" + str((page+1) % n))",
      "metadata": {
        "trusted": true
      },
      "execution_count": 7,
      "outputs": []
    },
    {
      "cell_type": "code",
      "source": "output = open(\"/instancias/matriz_ciclica.txt\", \"w\")\ngenerar_ciclico(output, 4)\noutput.close()",
      "metadata": {
        "trusted": true
      },
      "execution_count": 16,
      "outputs": []
    },
    {
      "cell_type": "code",
      "source": "",
      "metadata": {},
      "execution_count": null,
      "outputs": []
    }
  ]
}